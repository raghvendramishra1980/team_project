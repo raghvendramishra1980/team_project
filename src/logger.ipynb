{
 "cells": [
  {
   "cell_type": "code",
   "execution_count": 2,
   "metadata": {},
   "outputs": [],
   "source": [
    "import logging\n",
    "\n",
    "# Configure logger\n",
    "logging.basicConfig(\n",
    "    #filename='object_detection.log',  # Log file name\n",
    "    level=logging.INFO,  # Log level\n",
    "    format='%(asctime)s - %(levelname)s - %(message)s'  # Log message format\n",
    ")\n",
    "\n",
    "logger = logging.getLogger()\n",
    "\n",
    "# Example usage\n",
    "logger.info('Starting object detection training')"
   ]
  }
 ],
 "metadata": {
  "kernelspec": {
   "display_name": "scale2prod",
   "language": "python",
   "name": "python3"
  },
  "language_info": {
   "codemirror_mode": {
    "name": "ipython",
    "version": 3
   },
   "file_extension": ".py",
   "mimetype": "text/x-python",
   "name": "python",
   "nbconvert_exporter": "python",
   "pygments_lexer": "ipython3",
   "version": "3.10.14"
  }
 },
 "nbformat": 4,
 "nbformat_minor": 2
}
